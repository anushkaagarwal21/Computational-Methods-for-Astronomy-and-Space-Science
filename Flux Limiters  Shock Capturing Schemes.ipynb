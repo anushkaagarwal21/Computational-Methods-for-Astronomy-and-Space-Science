{
  "cells": [
    {
      "cell_type": "markdown",
      "metadata": {
        "id": "3pTbVlYBaooR"
      },
      "source": [
        "**Q1.  Flux Limiters : Shock Capturing Schemes**"
      ]
    },
    {
      "cell_type": "markdown",
      "metadata": {
        "id": "TUDXK3KIx2pe"
      },
      "source": [
        "**Total Variation Diminising Scheme :**\n",
        " A numerical scheme is said to be total variation diminishing scheme (TVD) if :\n",
        "$$ TV(q^{n+1}) \\leq TV(q^n)$$\n",
        "\n",
        "Such a scheme will not develop oscillations near a jump, because a jump is a monotonically increasing or decreasing function and TVD scheme will not increase the TV and keep it identically constant.  "
      ]
    },
    {
      "cell_type": "markdown",
      "metadata": {
        "id": "Hg5XinliyPbF"
      },
      "source": [
        "##Slope Limiters :\n",
        "Non-linear tools to prevent overshoots\n",
        "\n",
        "When a sharp change occurs, the solution gradient become very steep, which makes solution unstable. These error arises as numerical ethods fails to keep track of the solution and result in unstable solution. So in order to acheive stability we basically limit the slope $σ_i^n$ of the piecewise linear scheme to make sure that the resulting schemem is TVD.\n",
        "\n",
        "##Flux Limiters :    \n",
        "Flux limiters help prevent quantities from overflowing by controlling how much material can flow through a certain point. They make sure that the flow stays within a safe limit to keep things stable.\n",
        "\n",
        "Slope limiters and flux limiters are similar in what they do - they control quantities to prevent problems. But they differ in where they are used. Slope limiters work inside grids, while flux limiters are used on the interface."
      ]
    },
    {
      "cell_type": "code",
      "execution_count": null,
      "metadata": {
        "id": "_1mZiYi0rAi0"
      },
      "outputs": [],
      "source": [
        "#importing necessary libraries\n",
        "import numpy as np\n",
        "import matplotlib.pyplot as plt\n",
        "from matplotlib.animation import FuncAnimation\n",
        "%matplotlib tk"
      ]
    },
    {
      "cell_type": "code",
      "execution_count": null,
      "metadata": {
        "id": "w1VFjyTzp31w"
      },
      "outputs": [],
      "source": [
        "# Defining parameters\n",
        "nx = 200  # Number of grid points\n",
        "x = np.linspace(-10, 10, nx)\n",
        "dx = x[1] - x[0]  # Grid spacing\n",
        "\n",
        "t = np.linspace(0, 25, 1000)\n",
        "dt = t[1] - t[0]  # Time step\n",
        "\n",
        "h = 3.0  # Height of the initial wave\n",
        "b = 8.0  # Half-width of the initial wave\n",
        "u0 = np.where((np.abs(x) <= b / 2), h, 0)  # Initial condition: top-hat function\n",
        "lamda = 3.0  # Speed of advection (constant velocity)\n"
      ]
    },
    {
      "cell_type": "markdown",
      "metadata": {
        "id": "ZAVXUiqYp9pM"
      },
      "source": [
        "## Donner cell\n",
        "For donner cell , $\\phi  = 0 $, The formula reduces to:\n",
        "$$f^{n+\\frac{1}{2}}_{i-\\frac{1}{2}} = \\frac{1}{2}\\lambda \\left[ (1 + \\theta_{i-\\frac{1}{2}})q^n_{i-1} + (1 - \\theta_{i-\\frac{1}{2}})q^n_i \\right]$$\n",
        "\n",
        "$$f^{n+\\frac{1}{2}}_{i+\\frac{1}{2}} = \\frac{1}{2}\\lambda \\left[ (1 + \\theta_{i+\\frac{1}{2}})q^n_i + (1 - \\theta_{i+\\frac{1}{2}})q^n_{i+1} \\right]$$\n",
        "\n",
        "where\n",
        "$$ \\theta_{i-\\frac{1}{2}} \\equiv \\theta(u_{i-\\frac{1}{2}}) =\n",
        "\\begin{cases}\n",
        "+1 & \\text{for } \\lambda \\geq 0 \\\\\n",
        "-1 & \\text{for } \\lambda \\leq 0\n",
        "\\end{cases} $$\n",
        "\n",
        "Same for i+1/2 case\n",
        "\n"
      ]
    },
    {
      "cell_type": "code",
      "execution_count": null,
      "metadata": {
        "id": "-m9D5nAWpDys"
      },
      "outputs": [],
      "source": [
        "# Plotting setup\n",
        "fig, ax = plt.subplots()\n",
        "line, = ax.plot(x, u0, color='magenta')  # Initial plot\n",
        "ax.set_xlabel(\"x\")\n",
        "ax.set_ylabel(\"f(x)\")\n",
        "ax.set_title(f\"Donner cell, $\\lambda$ = {lamda}\")\n",
        "\n",
        "# Defining a function to update the plot\n",
        "u1 = u0.copy()  # Initial copy of the solution\n",
        "def update(frame):\n",
        "    u = u1.copy()  # Copy the solution to avoid modifying it while iterating\n",
        "    for i in range(len(x)):\n",
        "        if lamda > 0:\n",
        "            theta = 1.0\n",
        "        else:\n",
        "            theta = -1.0\n",
        "\n",
        "        # Calculating fluxes\n",
        "        f_minus_half = (lamda / 2) * ((1 + theta) * u[(i - 1) % nx] + (1 - theta) * u[(i) % nx])\n",
        "        f_plus_half = (lamda / 2) * ((1 + theta) * u[(i) % nx] + (1 - theta) * u[(i + 1) % nx])\n",
        "\n",
        "        # Updating\n",
        "        u1[i] = u[i] + (dt / dx) * (f_minus_half - f_plus_half)\n",
        "\n",
        "    line.set_ydata(u1)  # Updating the plot with the new solution\n",
        "\n",
        "    return line,\n",
        "\n",
        "# Create the animation\n",
        "animation = FuncAnimation(fig, update, frames=len(t), interval=50, blit=True)\n",
        "\n",
        "plt.show() #showing plot"
      ]
    },
    {
      "cell_type": "markdown",
      "metadata": {
        "id": "7inDY2GPghwR"
      },
      "source": [
        "## Lax Wenderoff\n",
        "For lax Wenderoff $\\phi  = 1.0$. The formula becomes:\n",
        "$$f^{n+\\frac{1}{2}}_{i-\\frac{1}{2}} = \\frac{1}{2}\\lambda \\left[ (1 + \\theta_{i-\\frac{1}{2}})q^n_{i-1} + (1 - \\theta_{i-\\frac{1}{2}})q^n_i \\right] + \\frac{1}{2}|\\lambda| \\left(1 - \\left |\\frac{\\lambda\\Delta t}{\\Delta x}\\right|  \\right) (1) (q^n_i - q^n_{i-1}) $$\n",
        "$$f^{n+\\frac{1}{2}}_{i+\\frac{1}{2}} = \\frac{1}{2}\\lambda \\left[ (1 + \\theta_{i+\\frac{1}{2}})q^n_i + (1 - \\theta_{i+\\frac{1}{2}})q^n_{i+1} \\right] + \\frac{1}{2}|\\lambda| \\left(1 - \\left |\\frac{\\lambda\\Delta t}{\\Delta x}\\right|  \\right) (1) (q^n_{i+1} - q^n_i) $$"
      ]
    },
    {
      "cell_type": "code",
      "execution_count": null,
      "metadata": {
        "id": "Nq2nBWIVg3NS"
      },
      "outputs": [],
      "source": [
        "# Create figure and axis objects for plotting\n",
        "fig, ax = plt.subplots()\n",
        "line, = ax.plot(x, u0, color='magenta')  # Initial plot\n",
        "ax.set_xlabel(\"x\")\n",
        "ax.set_ylabel(\"f(x)\")\n",
        "ax.set_title(f\"Lax-Wendroff, $\\lambda$ = {lamda}\")\n",
        "\n",
        "u1 = u0.copy()  #copy of the initial condition\n",
        "\n",
        "# Defining a function to update the plot\n",
        "def update(frame):\n",
        "    u = u1.copy()  # Copy the solution to avoid modifying it while iterating\n",
        "    for i in range(len(x)):\n",
        "        if lamda > 0:\n",
        "            theta = 1.0\n",
        "        else:\n",
        "            theta = -1.0\n",
        "\n",
        "        # Calculating fluxes\n",
        "        f_minus_half = (lamda / 2) * ((1 + theta) * u[(i - 1) % nx] + (1 - theta) * u[(i) % nx] + (abs(lamda / 2)) * (1 - abs(lamda * dt / dx)) * (u[i % nx] - u[(i - 1) % nx]))\n",
        "        f_plus_half = (lamda / 2) * ((1 + theta) * u[(i) % nx] + (1 - theta) * u[(i + 1) % nx] + (abs(lamda / 2)) * (1 - abs(lamda * dt / dx))) * (u[(i + 1) % nx] - u[(i) % nx])\n",
        "\n",
        "        # Updating\n",
        "        u1[i] = u[i] + (dt / dx) * (f_minus_half - f_plus_half)\n",
        "\n",
        "    # Updating the plot with the new solution\n",
        "    line.set_ydata(u1)\n",
        "\n",
        "    return line,\n",
        "\n",
        "# Create the animation\n",
        "animation = FuncAnimation(fig, update, frames=len(t), interval=50, blit=True)\n",
        "\n",
        "plt.show()  #showing plot\n"
      ]
    },
    {
      "cell_type": "markdown",
      "metadata": {
        "id": "5i9WVnOViqlu"
      },
      "source": [
        "## Beam Warming\n",
        "$\\phi = r$, formula:\n",
        "$$f^{n+\\frac{1}{2}}_{i-\\frac{1}{2}} = \\frac{1}{2}\\lambda \\left[ (1 + \\theta_{i-\\frac{1}{2}})q^n_{i-1} + (1 - \\theta_{i-\\frac{1}{2}})q^n_i \\right] + \\frac{1}{2}|\\lambda| \\left(1 - \\left |\\frac{\\lambda\\Delta t}{\\Delta x}\\right|  \\right) r^n_{i-\\frac{1}{2}} (q^n_i - q^n_{i-1})\n",
        " $$\n",
        "$$f^{n+\\frac{1}{2}}_{i-\\frac{1}{2}} = \\frac{1}{2}\\lambda \\left[ (1 + \\theta_{i-\\frac{1}{2}})q^n_{i-1} + (1 - \\theta_{i-\\frac{1}{2}})q^n_i \\right] + \\frac{1}{2}|\\lambda| \\left(1 - \\left |\\frac{\\lambda\\Delta t}{\\Delta x}\\right|  \\right) r^n_{i+\\frac{1}{2}} (q^n_i - q^n_{i-1})\n",
        " $$\n",
        "\n",
        "where\n",
        "$$ r_{i-\\frac{1}{2}} =\n",
        "\\begin{cases}\n",
        "    \\frac{q^n_{i-1} - q^n_{i-2}}{q^n_{i} - q^n_{i-1}} & \\text{for } \\lambda \\geq 0 \\\\\n",
        "    \\frac{q^n_{i+1} - q^n_i}{q^n_{i} - q^n_{i-1}} & \\text{for } \\lambda \\leq 0\n",
        "\\end{cases} $$\n",
        "\n",
        "$$ r_{i+\\frac{1}{2}} =\n",
        "\\begin{cases}\n",
        "    \\frac{q^n_{i} - q^n_{i-1}}{q^n_{i+1} - q^n_{i}} & \\text{for } \\lambda \\geq 0 \\\\\n",
        "    \\frac{q^n_{i+2} - q^n_{i+1}}{q^n_{i+1} - q^n_{i}} & \\text{for } \\lambda \\leq 0\n",
        "\\end{cases} $$\n",
        "\n"
      ]
    },
    {
      "cell_type": "code",
      "execution_count": null,
      "metadata": {
        "id": "2gvgVOrGioHb"
      },
      "outputs": [],
      "source": [
        "# Create figure and axis objects for plotting\n",
        "fig, ax = plt.subplots()\n",
        "line, = ax.plot(x, u0,color = 'magenta')  # Initial plot\n",
        "ax.set_xlabel(\"x\")\n",
        "ax.set_ylabel(\"f(x)\")\n",
        "ax.set_title(f\"Beam-Warming, $\\lambda $ = {lamda} \")\n",
        "\n",
        "u1 = u0.copy()   #copy of the initial condition\n",
        "\n",
        "# Defining a function to update the plot\n",
        "def update(frame):\n",
        "    u = u1.copy()    # Copy the solution to avoid modifying it while iterating\n",
        "    # Determining the value of theta based on the sign of the advection speed as given\n",
        "    # Calculating r_minus_half and its denominator\n",
        "    # Avoiding division by zero and calculating r_minus_half\n",
        "    for i in range(len(x)):\n",
        "        if lamda > 0:\n",
        "         theta = 1.0\n",
        "         r_minus_half_d = u[(i)%nx] - u[(i-1)%nx]\n",
        "         r_minus_half = u[(i-1)%nx] - u[(i-2)%nx] / r_minus_half_d if r_minus_half_d!=0 else 0\n",
        "        else:\n",
        "           theta = -1.0\n",
        "           r_minus_half_d = u[(i)%nx] - u[(i-1)%nx]\n",
        "           r_minus_half = (u[(i+1)%nx] - u[(i)%nx]) / r_minus_half_d if r_minus_half_d!=0 else 0\n",
        "\n",
        "        # Calculating fluxes\n",
        "        f_minus_half =  (lamda/2) * ( (1 + theta) * u[(i - 1) % nx] + (1-theta) * u[(i) % nx] ) + abs((lamda/2)) * (1 - abs((lamda * dt / dx)) ) * (u[i % nx] - u[(i-1)% nx]) * r_minus_half\n",
        "        f_plus_half = (lamda/2) * ( (1 + theta) * u[(i) % nx] + (1-theta) * u[(i+1) % nx] + (abs(lamda/2)) * (1- abs(lamda * dt/dx))) * (u[(i+1) % nx] - u[(i)%nx])\n",
        "\n",
        "        u1[i] = u[i] + (dt/dx) * (f_minus_half - f_plus_half)  # Updating\n",
        "    line.set_ydata(u1)   # Updating the plot with the new solution\n",
        "\n",
        "    return line,\n",
        "\n",
        "animation = FuncAnimation(fig, update, frames=len(t), interval=50, blit=True)  # Creating the animation\n",
        "plt.show()\n"
      ]
    },
    {
      "cell_type": "markdown",
      "metadata": {
        "id": "nnPs4obTkdPU"
      },
      "source": [
        "## Fromm\n",
        "$\\phi = \\frac{1}{2} (1+r) $. The formula changes to:\n",
        "$$f^{n+\\frac{1}{2}}_{i-\\frac{1}{2}} = \\frac{1}{2}\\lambda \\left[ (1 + \\theta_{i-\\frac{1}{2}})q^n_{i-1} + (1 - \\theta_{i-\\frac{1}{2}})q^n_i \\right] + \\frac{1}{2}|\\lambda| \\left(1 - \\left |\\frac{\\lambda\\Delta t}{\\Delta x}\\right|  \\right) \\frac{1}{2}(1 + r^n_{i-\\frac{1}{2}}) (q^n_i - q^n_{i-1})\n",
        " $$\n",
        "$$f^{n+\\frac{1}{2}}_{i-\\frac{1}{2}} = \\frac{1}{2}\\lambda \\left[ (1 + \\theta_{i-\\frac{1}{2}})q^n_{i-1} + (1 - \\theta_{i-\\frac{1}{2}})q^n_i \\right] + \\frac{1}{2}|\\lambda| \\left(1 - \\left |\\frac{\\lambda\\Delta t}{\\Delta x}\\right|  \\right) \\frac{1}{2}(1 + r^n_{i+\\frac{1}{2}}) (q^n_i - q^n_{i-1})\n",
        " $$"
      ]
    },
    {
      "cell_type": "code",
      "execution_count": null,
      "metadata": {
        "id": "l-G9M_j3kX5O"
      },
      "outputs": [],
      "source": [
        "# Create figure and axis objects for plotting\n",
        "fig, ax = plt.subplots()\n",
        "line, = ax.plot(x, u0,color = 'magenta')  # Initial plot\n",
        "ax.set_xlabel(\"x\")\n",
        "ax.set_ylabel(\"f(x)\")\n",
        "ax.set_title(f\"Fromm, $\\lambda $ = {lamda} \")\n",
        "\n",
        "u1 = u0.copy()   #copy of the initial condition\n",
        "\n",
        "# Defining a function to update the plot\n",
        "def update(frame):\n",
        "    u = u1.copy()   # Copy the solution to avoid modifying it while iterating\n",
        "    # Determining the value of theta based on the sign of the advection speed as given\n",
        "    # Calculating r_minus_half and its denominator\n",
        "    # Avoiding division by zero and calculating r_minus_half\n",
        "    for i in range(len(x)):\n",
        "        if lamda > 0:\n",
        "         theta = 1.0\n",
        "         r_minus_half_d = u[(i)%nx] - u[(i-1)%nx]\n",
        "         r_minus_half = u[(i-1)%nx] - u[(i-2)%nx] / r_minus_half_d if r_minus_half_d!=0 else 0\n",
        "\n",
        "         r_plus_half_d = u[(i+1)%nx] - u[(i)%nx]\n",
        "         r_plus_half = (u[(i)%nx] - u[(i-1)%nx]) / r_plus_half_d if r_plus_half_d !=0 else 0\n",
        "        else:\n",
        "           theta = -1.0\n",
        "           r_minus_half_d = u[(i)%nx] - u[(i-1)%nx]\n",
        "           r_minus_half = (u[(i+1)%nx] - u[(i)%nx]) / r_minus_half_d if r_minus_half_d!=0 else 0\n",
        "\n",
        "           r_plus_half_d= (u[(i+1)%nx] - u[(i)%nx])\n",
        "           r_plus_half = (u[(i+2)%nx] - u[(i+1)%nx]) / r_plus_half_d\n",
        "\n",
        "        # Calculating fluxes\n",
        "        f_minus_half =   (lamda/2) * ( (1 + theta) * u[(i - 1) % nx] + (1-theta) * u[(i) % nx] ) + abs((lamda/2)) * (1 - abs((lamda * dt / dx))) * (u[i % nx] - u[(i-1)% nx]\n",
        "                        ) * ((1 + r_minus_half) / 2)\n",
        "        f_plus_half = (lamda/2) * ( (1 + theta) * u[(i) % nx] + (1-theta) * u[(i+1) % nx] ) + abs((lamda/2)) * (1 - abs((lamda * dt / dx))) * (u[(i+1) % nx] - u[(i)% nx]\n",
        "                        ) * ((1 + r_plus_half) / 2)\n",
        "\n",
        "        u1[i] = u[i] + (dt/dx) * (f_minus_half - f_plus_half)\n",
        "    line.set_ydata(u1)\n",
        "\n",
        "    return line,\n",
        "\n",
        "animation = FuncAnimation(fig, update, frames=len(t), interval=50, blit=True)  #creating animation\n",
        "plt.show()\n"
      ]
    },
    {
      "cell_type": "markdown",
      "metadata": {
        "id": "zbX-NaBsmc5U"
      },
      "source": [
        "## Min mod\n",
        "$\\phi = minmod(1,r) $"
      ]
    },
    {
      "cell_type": "code",
      "execution_count": null,
      "metadata": {
        "id": "-OkRoin0mf97"
      },
      "outputs": [],
      "source": [
        "# Create figure and axis objects for plotting\n",
        "fig, ax = plt.subplots()\n",
        "line, = ax.plot(x, u0,color = 'magenta') # Initial plot\n",
        "ax.set_xlabel(\"x\")\n",
        "ax.set_ylabel(\"f(x)\")\n",
        "ax.set_title(f\"Minmod, $\\lambda $ = {lamda} \")\n",
        "\n",
        "u1 = u0.copy()\n",
        "\n",
        "# Defining a function to update the plot\n",
        "def update(frame):\n",
        "    u = u1.copy()   # Copy the solution to avoid modifying it while iterating\n",
        "    # Determining the value of theta based on the sign of the advection speed as given\n",
        "    # Calculating r_minus_half and its denominator\n",
        "    # Avoiding division by zero and calculating r_minus_half\n",
        "    for i in range(len(x)):\n",
        "        if lamda > 0:\n",
        "         theta = 1.0\n",
        "         r_minus_half_d = u[(i)%nx] - u[(i-1)%nx]\n",
        "         r_minus_half = u[(i-1)%nx] - u[(i-2)%nx] / r_minus_half_d if r_minus_half_d!=0 else 0\n",
        "\n",
        "         r_plus_half_d = u[(i+1)%nx] - u[(i)%nx]\n",
        "         r_plus_half = (u[(i)%nx] - u[(i-1)%nx]) / r_plus_half_d if r_plus_half_d !=0 else 0\n",
        "        else:\n",
        "           theta = -1.0\n",
        "           r_minus_half_d = u[(i)%nx] - u[(i-1)%nx]\n",
        "           r_minus_half = (u[(i+1)%nx] - u[(i)%nx]) / r_minus_half_d if r_minus_half_d!=0 else 0\n",
        "\n",
        "           r_plus_half_d= (u[(i+1)%nx] - u[(i)%nx])\n",
        "           r_plus_half = (u[(i+2)%nx] - u[(i+1)%nx]) / r_plus_half_d\n",
        "\n",
        "        # Calculating fluxes\n",
        "        f_minus_half =   (lamda/2) * ( (1 + theta) * u[(i - 1) % nx] + (1-theta) * u[(i) % nx] ) + abs((lamda/2)) * (1 - abs((lamda * dt / dx))) * (u[i % nx] - u[(i-1)% nx]) * min(1,abs(r_minus_half))\n",
        "        f_plus_half = (lamda/2) * ( (1 + theta) * u[(i) % nx] + (1-theta) * u[(i+1) % nx] ) + abs((lamda/2)) * (1 - abs((lamda * dt / dx))) * (u[(i+1) % nx] - u[(i)% nx]) * min(1,abs(r_plus_half))\n",
        "\n",
        "        u1[i] = u[i] + (dt/dx) * (f_minus_half - f_plus_half)\n",
        "    line.set_ydata(u1)\n",
        "\n",
        "    return line,\n",
        "\n",
        "animation = FuncAnimation(fig, update, frames=len(t), interval=50, blit=True)  #creating animation\n",
        "plt.show()\n"
      ]
    },
    {
      "cell_type": "markdown",
      "metadata": {
        "id": "Pe6S1bq6nd06"
      },
      "source": [
        "## Super bee\n",
        "$\\phi = max(0, min(1,2r), min(2,r)) $\n"
      ]
    },
    {
      "cell_type": "code",
      "execution_count": null,
      "metadata": {
        "id": "WxyjSZ_3ngE2"
      },
      "outputs": [],
      "source": [
        "# Create figure and axis objects for plotting\n",
        "fig, ax = plt.subplots()\n",
        "line, = ax.plot(x, u0,color = 'magenta')  # Initial plot\n",
        "ax.set_xlabel(\"x\")\n",
        "ax.set_ylabel(\"f(x)\")\n",
        "ax.set_title(f\"Superbee, $\\lambda $ = {lamda} \")\n",
        "\n",
        "u1 = u0.copy()\n",
        "\n",
        "# Defining a function to update the plot\n",
        "def update(frame):\n",
        "    u = u1.copy()   # Copy the solution to avoid modifying it while iterating\n",
        "    # Determining the value of theta based on the sign of the advection speed as given\n",
        "    # Calculating r_minus_half and its denominator\n",
        "    # Avoiding division by zero and calculating r_minus_half\n",
        "    for i in range(len(x)):\n",
        "        if lamda > 0:\n",
        "         theta = 1.0\n",
        "         r_minus_half_d = u[(i)%nx] - u[(i-1)%nx]\n",
        "         r_minus_half = u[(i-1)%nx] - u[(i-2)%nx] / r_minus_half_d if r_minus_half_d!=0 else 0\n",
        "\n",
        "         r_plus_half_d = u[(i+1)%nx] - u[(i)%nx]\n",
        "         r_plus_half = (u[(i)%nx] - u[(i-1)%nx]) / r_plus_half_d if r_plus_half_d !=0 else 0\n",
        "        else:\n",
        "           theta = -1.0\n",
        "           r_minus_half_d = u[(i)%nx] - u[(i-1)%nx]\n",
        "           r_minus_half = (u[(i+1)%nx] - u[(i)%nx]) / r_minus_half_d if r_minus_half_d!=0 else 0\n",
        "\n",
        "           r_plus_half_d= (u[(i+1)%nx] - u[(i)%nx])\n",
        "           r_plus_half = (u[(i+2)%nx] - u[(i+1)%nx]) / r_plus_half_d\n",
        "\n",
        "        # Calculating fluxes\n",
        "        f_minus_half =   (lamda/2) * ( (1 + theta) * u[(i - 1) % nx] + (1-theta) * u[(i) % nx] ) + abs((lamda/2)) * (1 - abs((lamda * dt / dx))) * (u[i % nx] - u[(i-1)% nx]) * max(0,min(1,2*r_minus_half),min(2,r_minus_half))\n",
        "        f_plus_half = (lamda/2) * ( (1 + theta) * u[(i) % nx] + (1-theta) * u[(i+1) % nx] ) + abs((lamda/2)) * (1 - abs((lamda * dt / dx))) * (u[(i+1) % nx] - u[(i)% nx]) * min(1,abs(r_plus_half))\n",
        "\n",
        "        u1[i] = u[i] + (dt/dx) * (f_minus_half - f_plus_half)\n",
        "    line.set_ydata(u1)\n",
        "\n",
        "    return line,\n",
        "\n",
        "animation = FuncAnimation(fig, update, frames=len(t), interval=50, blit=True)   #creating animation\n",
        "plt.show()\n"
      ]
    },
    {
      "cell_type": "markdown",
      "metadata": {
        "id": "BJUKAgT5n5w7"
      },
      "source": [
        "## MC\n",
        "$\\phi = max(0, min((1 + r)/2, 2, 2r)) $"
      ]
    },
    {
      "cell_type": "code",
      "execution_count": null,
      "metadata": {
        "id": "-rh2njByn5Ya"
      },
      "outputs": [],
      "source": [
        "# Create figure and axis objects for plottingfig, ax = plt.subplots()\n",
        "fig, ax = plt.subplots()\n",
        "line, = ax.plot(x, u0,color = 'magenta')  # Initial plot\n",
        "ax.set_xlabel(\"x\")\n",
        "ax.set_ylabel(\"f(x)\")\n",
        "ax.set_title(f\"MC, $\\lambda $ = {lamda} \")\n",
        "\n",
        "u1 = u0.copy()\n",
        "\n",
        "# Defining a function to update the plot\n",
        "def update(frame):\n",
        "    u = u1.copy()   # Copy the solution to avoid modifying it while iterating\n",
        "    # Determining the value of theta based on the sign of the advection speed as given\n",
        "    # Calculating r_minus_half and its denominator\n",
        "    # Avoiding division by zero and calculating r_minus_half\n",
        "    for i in range(len(x)):\n",
        "        if lamda > 0:\n",
        "         theta = 1.0\n",
        "         r_minus_half_d = u[(i)%nx] - u[(i-1)%nx]\n",
        "         r_minus_half = u[(i-1)%nx] - u[(i-2)%nx] / r_minus_half_d if r_minus_half_d!=0 else 0\n",
        "\n",
        "         r_plus_half_d = u[(i+1)%nx] - u[(i)%nx]\n",
        "         r_plus_half = (u[(i)%nx] - u[(i-1)%nx]) / r_plus_half_d if r_plus_half_d !=0 else 0\n",
        "        else:\n",
        "           theta = -1.0\n",
        "           r_minus_half_d = u[(i)%nx] - u[(i-1)%nx]\n",
        "           r_minus_half = (u[(i+1)%nx] - u[(i)%nx]) / r_minus_half_d if r_minus_half_d!=0 else 0\n",
        "\n",
        "           r_plus_half_d= (u[(i+1)%nx] - u[(i)%nx])\n",
        "           r_plus_half = (u[(i+2)%nx] - u[(i+1)%nx]) / r_plus_half_d\n",
        "\n",
        "       # Calculating fluxes\n",
        "        f_minus_half =   (lamda/2) * ( (1 + theta) * u[(i - 1) % nx] + (1-theta) * u[(i) % nx] ) + abs((lamda/2)) * (1 - abs((lamda * dt / dx))) * (u[i % nx] - u[(i-1)% nx]) * max(0,min((1 + r_minus_half)/2, 2, 2*r_minus_half))\n",
        "        f_plus_half = (lamda/2) * ( (1 + theta) * u[(i) % nx] + (1-theta) * u[(i+1) % nx] ) + abs((lamda/2)) * (1 - abs((lamda * dt / dx))) * (u[(i+1) % nx] - u[(i)% nx]) * min(1,abs(r_plus_half))\n",
        "\n",
        "        u1[i] = u[i] + (dt/dx) * (f_minus_half - f_plus_half)\n",
        "    line.set_ydata(u1)\n",
        "\n",
        "    return line,\n",
        "\n",
        "animation = FuncAnimation(fig, update, frames=len(t), interval=50, blit=True)    #creating animation\n",
        "plt.show()\n"
      ]
    },
    {
      "cell_type": "markdown",
      "metadata": {
        "id": "CENMmYPUoTvn"
      },
      "source": [
        "### Van leer\n",
        "$\\phi =\\frac{r + |r|}{1+|r|}  $ The formula changes to:\n",
        "$$f^{n+\\frac{1}{2}}_{i-\\frac{1}{2}} = \\frac{1}{2}\\lambda \\left[ (1 + \\theta_{i-\\frac{1}{2}})q^n_{i-1} + (1 - \\theta_{i-\\frac{1}{2}})q^n_i \\right] + \\frac{1}{2}|\\lambda| \\left(1 - \\left |\\frac{\\lambda\\Delta t}{\\Delta x}\\right|  \\right) \\frac{r_{i-1/2} + |r_{i-1/2}|}{1+|r_{i-1/2}|} (q^n_i - q^n_{i-1})\n",
        " $$\n",
        "$$f^{n+\\frac{1}{2}}_{i-\\frac{1}{2}} = \\frac{1}{2}\\lambda \\left[ (1 + \\theta_{i-\\frac{1}{2}})q^n_{i-1} + (1 - \\theta_{i-\\frac{1}{2}})q^n_i \\right] + \\frac{1}{2}|\\lambda| \\left(1 - \\left |\\frac{\\lambda\\Delta t}{\\Delta x}\\right|  \\right) \\frac{r_{i+1/2} + |r_{i+1/2}|}{1+|r_{i+1/2}|} (q^n_i - q^n_{i-1})\n",
        " $$"
      ]
    },
    {
      "cell_type": "code",
      "execution_count": null,
      "metadata": {
        "id": "JSHgZkAOoVUv"
      },
      "outputs": [],
      "source": [
        "# Create figure and axis objects for plottingfig, ax = plt.subplots()\n",
        "fig, ax = plt.subplots()\n",
        "line, = ax.plot(x, u0,color = 'magenta') # Initial plot\n",
        "ax.set_xlabel(\"x\")\n",
        "ax.set_ylabel(\"f(x)\")\n",
        "ax.set_title(f\"van Leer, $\\lambda $ = {lamda} \")\n",
        "\n",
        "u1 = u0.copy()\n",
        "\n",
        "# Defining a function to update the plot\n",
        "def update(frame):\n",
        "    u = u1.copy()   # Copy the solution to avoid modifying it while iterating\n",
        "    # Determining the value of theta based on the sign of the advection speed as given\n",
        "    # Calculating r_minus_half and its denominator\n",
        "    # Avoiding division by zero and calculating r_minus_half\n",
        "    for i in range(len(x)):\n",
        "        if lamda > 0:\n",
        "         theta = 1.0\n",
        "         r_minus_half_d = u[(i)%nx] - u[(i-1)%nx]\n",
        "         r_minus_half = u[(i-1)%nx] - u[(i-2)%nx] / r_minus_half_d if r_minus_half_d!=0 else 0\n",
        "\n",
        "         r_plus_half_d = u[(i+1)%nx] - u[(i)%nx]\n",
        "         r_plus_half = (u[(i)%nx] - u[(i-1)%nx]) / r_plus_half_d if r_plus_half_d !=0 else 0\n",
        "        else:\n",
        "           theta = -1.0\n",
        "           r_minus_half_d = u[(i)%nx] - u[(i-1)%nx]\n",
        "           r_minus_half = (u[(i+1)%nx] - u[(i)%nx]) / r_minus_half_d if r_minus_half_d!=0 else 0\n",
        "\n",
        "           r_plus_half_d= (u[(i+1)%nx] - u[(i)%nx])\n",
        "           r_plus_half = (u[(i+2)%nx] - u[(i+1)%nx]) / r_plus_half_d\n",
        "\n",
        "        # Calculating fluxes\n",
        "        f_minus_half =   (lamda/2) * ( (1 + theta) * u[(i - 1) % nx] + (1-theta) * u[(i) % nx] ) + abs((lamda/2)) * (1 - abs((lamda * dt / dx))) * (u[i % nx] - u[(i-1)% nx]\n",
        "                        ) * ( (r_minus_half + abs(r_minus_half)) / (1 + abs(r_minus_half)) )\n",
        "        f_plus_half = (lamda/2) * ( (1 + theta) * u[(i) % nx] + (1-theta) * u[(i+1) % nx] ) + abs((lamda/2)) * (1 - abs((lamda * dt / dx))) * (u[(i+1) % nx] - u[(i)% nx]) * min(1,abs(r_plus_half))\n",
        "\n",
        "        u1[i] = u[i] + (dt/dx) * (f_minus_half - f_plus_half)\n",
        "    line.set_ydata(u1)\n",
        "\n",
        "    return line,\n",
        "\n",
        "animation = FuncAnimation(fig, update, frames=len(t), interval=50, blit=True)    #creating animation\n",
        "plt.show()\n"
      ]
    },
    {
      "cell_type": "markdown",
      "metadata": {
        "id": "g-SMFxCfrMHt"
      },
      "source": [
        "**Q2. 1D Isothermal Shock Tube**\n",
        "\n",
        "\n"
      ]
    },
    {
      "cell_type": "markdown",
      "metadata": {
        "id": "PRDblGkWr5U4"
      },
      "source": [
        "#### 1D isothermal equations in their conservative forms\n",
        "* **Conservation of Mass**:\n",
        "   $\\frac{\\partial \\rho}{\\partial t} + \\frac{\\partial (\\rho v)}{\\partial x} = 0$\n",
        "\n",
        "* **Conservation of Momentum**:\n",
        "   $\\frac{\\partial (\\rho v)}{\\partial t} + \\frac{\\partial (\\rho v^2)}{\\partial x} = -\\frac{\\partial P}{\\partial x}$\n",
        "\n",
        "* **Conservation of energy:**\n",
        "   $$\\frac{\\partial (\\rho e_{total})}{\\partial t} + \\frac{\\partial (\\rho v e_{total})}{\\partial x} = -\\frac{\\partial (Pv)}{\\partial x}$$"
      ]
    },
    {
      "cell_type": "markdown",
      "metadata": {
        "id": "5OzzBMH5sSlN"
      },
      "source": [
        "c0 = 1, $Δx = 1$\n",
        "\n",
        "CFL Condition :\n",
        "$Δt = 0.5\\frac{Δx}{c0}$\n",
        "\n",
        "$Δt =0.5$"
      ]
    },
    {
      "cell_type": "markdown",
      "metadata": {
        "id": "48MRmC_SC-jI"
      },
      "source": [
        "#### Continuity equation\n",
        "$$\\frac{\\partial \\rho}{\\partial t} + \\frac{\\partial (\\rho v)}{\\partial x} = 0$$\n",
        "Given, $$\\rho(x, t=0) = 2\\Theta(50-x) + 1$$\n",
        "$$v(x, t=0) = 0$$\n",
        "With closed (reflective) boundaries.<br>\n",
        "Let $\\rho=q_1$ and $\\rho v = q_1v = f_1$  <br>\n"
      ]
    },
    {
      "cell_type": "markdown",
      "metadata": {
        "id": "1RkdXrFxIlyJ"
      },
      "source": [
        "#### Momentum conservation equation\n",
        "$$\\frac{\\partial q_1}{\\partial t} + \\frac{\\partial f_1}{\\partial x} = 0$$\n",
        "$$q_{1,i+1}^n = q_{1,i}^n - \\frac{\\Delta t}{\\Delta x}[f_{1,i+\\frac{1}{2}}^n - f_{1,i-\\frac{1}{2}}^n]$$\n",
        "And, let $\\rho v = q_2$ and $\\rho v.v = q_2v = f_2$<br>\n",
        "First we will take RHS of the momentum conservation equation zero solving it for advection and then update the solution while considering the source term where $P = \\rho c_s^2$<br>\n",
        "$$\\frac{\\partial q_2}{\\partial t} + \\frac{\\partial f_2}{\\partial x} = 0$$\n",
        "$$q_{2,i+1}^{n+\\frac{1}{2}} = q_{2,i}^{n+\\frac{1}{2}} - \\frac{\\Delta t}{\\Delta x}[f_{2,i+\\frac{1}{2}}^n - f_{2,i-\\frac{1}{2}}^n]$$\n",
        "$$q_{2,i+1}^n = q_{2,i+1}^{n+\\frac{1}{2}}  - \\frac{c_s^2}{2\\Delta x}[q_{1,i+1}^n - q_{1,i-1}^n]$$"
      ]
    },
    {
      "cell_type": "code",
      "execution_count": null,
      "metadata": {
        "id": "p5AMQinzr0S-"
      },
      "outputs": [],
      "source": [
        "x = np.linspace(0,100,101, endpoint=True) # Generating a linearly spaced array from 0 to 100 with 101 points\n",
        "x_mid= (x[:-1]+x[1:])/2  # Calculating midpoints of the array\n",
        "dx_mid = x_mid[1] - x_mid[0]   # Calculating the spacing between midpoints\n",
        "\n",
        "# Defining a pulse function that returns 1 where x > 0 and 0 otherwise\n",
        "def pulse(x):\n",
        "  return np.where(x>0,1,0)\n",
        "\n",
        "# Defining a function to determine the sign of a value\n",
        "def ff(c):\n",
        "  if c>=0:\n",
        "    return 1\n",
        "  else:\n",
        "    return -1\n",
        "\n",
        "# Initializing arrays to store state variables and related quantities\n",
        "s = np.zeros([3,len(x_mid)])\n",
        "t = np.zeros([2,len(x_mid)])\n",
        "\n",
        "Cs= np.ones(len(x_mid)) # Assigning a constant value to Cs for all midpoints\n",
        "time = 0.0\n",
        "CFL = 0.5\n",
        "\n",
        "# Setting initial values\n",
        "s[0] = 2 * pulse(50 - x_mid) + 1\n",
        "s[1] = 0\n",
        "s[2] = s[0] * (Cs ** 2)\n",
        "t[0] = s[0]\n",
        "t[1] = s[0]*s[1]\n",
        "\n",
        "density = []\n",
        "velocity = []\n",
        "\n",
        "# Main simulation loop running until time reaches 30\n",
        "while time <= 30:\n",
        "   # Storing current values of state variables\n",
        "    t_upd = t\n",
        "    s_upd = s\n",
        "    t_temp = t\n",
        "    # Initializing arrays for intermediate values\n",
        "    v_intf = np.zeros(len(x))\n",
        "    flux_intf = np.zeros([2, len(x)])\n",
        "    a_1 = np.zeros(len(x_mid))\n",
        "\n",
        "    # Calculating wave speeds at cell intfs\n",
        "    for i in range(len(x_mid) - 1):\n",
        "        a = max(abs(s_upd[1, i] - Cs[i]), abs(s_upd[1, i] + Cs[i]))\n",
        "        a_1[i] = a\n",
        "\n",
        "    # Calculating time step based on CFL condition\n",
        "    dt_2 = CFL * dx_mid / max(a_1)\n",
        "\n",
        "    # Calculating flux using Lax-Wendroff Flux Limiter\n",
        "    for i in range(1, len(x) - 1):\n",
        "        v_intf[i] = 0.5 * ((t_upd[1, i - 1] / t_upd[0, i - 1])+ (t_upd[1, i] / t_upd[0, i]))\n",
        "        theta = ff(v_intf[i])\n",
        "        # Lax-Wendroff flux limiter\n",
        "        flux_intf[0, i] = 0.5 * v_intf[i] * ((1 + theta) * t_upd[0, i - 1] + (1 - theta) * t_upd[0, i]) - 0.5 * (dt_2 / dx_mid) * v_intf[i] ** 2 * ( t_upd[0, i] - t_upd[0, i - 1])\n",
        "        flux_intf[1, i] = 0.5 * v_intf[i] * ((1 + theta) * t_upd[1, i - 1] + (1 - theta) * t_upd[1, i]) - 0.5 * (dt_2 / dx_mid) * v_intf[i] ** 2 * (t_upd[1, i] - t_upd[1, i - 1])\n",
        "\n",
        "\n",
        "    # Updating conservative variables\n",
        "    for i in range(1, len(x_mid) - 1):\n",
        "        t_temp[0, i] = t_upd[0, i] - ((dt_2 / dx_mid) * (flux_intf[0, i + 1]- flux_intf[0, i]))  #rho update\n",
        "        t_temp[1, i] = t_upd[1, i] - ((dt_2 / dx_mid) * (flux_intf[1, i + 1]- flux_intf[1, i]))   #flux update\n",
        "        t_upd[0, i] = t_temp[0, i]\n",
        "\n",
        "    # Updating velocity using\n",
        "    for i in range(1, len(x_mid) - 1):\n",
        "        t_upd[1, i] = t_temp[1, i] - 0.5 * ((Cs[i] ** 2) * (t_temp[0, i + 1] - t_temp[0, i - 1]) / dx_mid)\n",
        "\n",
        "    # Using reflective boundary conditions\n",
        "    t_upd[0, 0] = t_upd[0, 1]\n",
        "    t_upd[0, -1] = t_upd[0, -2]\n",
        "    t_upd[1, 0] = -t_upd[1, 1]\n",
        "    t_upd[1, -1] = -t_upd[1, -2]\n",
        "\n",
        "    # Updating state variables\n",
        "    t = t_upd\n",
        "    s[0] = t[0]\n",
        "    s[1] = t[1] / t[0]\n",
        "    s[2] = t[0] * (Cs ** 2)\n",
        "\n",
        "    # Updating time\n",
        "    time += dt_2\n",
        "\n",
        "    # Adding updated values to the solution array\n",
        "    density.append(list(s[0]))\n",
        "    velocity.append(list(s[1]))\n",
        "\n",
        "# Defininga a plotter function for 1D Isothermal Shock\n",
        "def advection_plot(sol, heading):\n",
        "    x = np.arange(0,100,1)\n",
        "    fig = plt.figure()\n",
        "    lines = plt.plot([])\n",
        "    line = lines[0]\n",
        "    plt.xlim(0,100)\n",
        "    plt.ylim( min(sol[0])-0.1, max(sol[0])+0.2)\n",
        "    plt.ylabel(\"Amplitude\")\n",
        "    plt.xlabel(\"Position(x)\")\n",
        "    plt.title(heading)\n",
        "    def animate(frame):\n",
        "        y = sol[frame]\n",
        "        line.set_data((x,y))\n",
        "    anim = FuncAnimation(fig, animate, frames=len(sol), interval=30)\n",
        "    video = anim.to_html5_video()\n",
        "    html = display.HTML(video)\n",
        "    display.display(html)\n",
        "    plt.close()\n"
      ]
    },
    {
      "cell_type": "code",
      "execution_count": null,
      "metadata": {
        "id": "yhQHeLUeMaAV"
      },
      "outputs": [],
      "source": [
        "# calling function to plot the evolution of density over time\n",
        "advection_plot(density,\"1D Isothermal Shock Tube (Density Evolution)\")"
      ]
    },
    {
      "cell_type": "code",
      "execution_count": null,
      "metadata": {
        "id": "tASjx8xbMale"
      },
      "outputs": [],
      "source": [
        "#calling function to plot the velocity over timee\n",
        "advection_plot(velocity,\"1D Isothermal Shock Tube (Velocity Evolution)\")"
      ]
    }
  ],
  "metadata": {
    "colab": {
      "provenance": []
    },
    "kernelspec": {
      "display_name": "Python 3",
      "name": "python3"
    },
    "language_info": {
      "name": "python"
    }
  },
  "nbformat": 4,
  "nbformat_minor": 0
}
